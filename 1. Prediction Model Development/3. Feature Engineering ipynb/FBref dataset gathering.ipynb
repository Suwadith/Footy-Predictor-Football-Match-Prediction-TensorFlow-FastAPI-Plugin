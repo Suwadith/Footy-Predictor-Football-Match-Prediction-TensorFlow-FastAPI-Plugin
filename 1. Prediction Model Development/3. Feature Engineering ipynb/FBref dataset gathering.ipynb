{
 "cells": [
  {
   "cell_type": "code",
   "execution_count": null,
   "id": "1f6af0c1",
   "metadata": {},
   "outputs": [],
   "source": [
    "# !pip install soccerdata --upgrade\n",
    "import soccerdata as sd"
   ]
  },
  {
   "cell_type": "markdown",
   "id": "47cdff3e",
   "metadata": {},
   "source": [
    "## Download Team Season Stats Between Seasons 2011-2022"
   ]
  },
  {
   "cell_type": "code",
   "execution_count": null,
   "id": "66d81a52",
   "metadata": {},
   "outputs": [],
   "source": [
    "league_seasons = ['11-12','12-13','13-14','14-15','15-16','16-17','17-18','18-19','19-20','20-21','21-22']\n",
    "\n",
    "team_stat_types = ['standard','keeper','keeper_adv','shooting','passing',\n",
    "                   'passing_types','goal_shot_creation','defense','possession','playing_time','misc']\n",
    "\n",
    "for season in league_seasons:\n",
    "    \n",
    "    fbref = sd.FBref(no_cache=False, no_store=False, leagues=\"ENG-Premier League\", seasons=season)\n",
    "\n",
    "    for stat in team_stat_types:\n",
    "        try:\n",
    "            pl_team_season_stats = fbref.read_team_season_stats(stat_type=stat)\n",
    "            pl_team_season_stats.to_csv(season + '_pl_team_season_stats_' + stat + '.csv')\n",
    "        except:\n",
    "            pass"
   ]
  },
  {
   "cell_type": "markdown",
   "id": "0e766b2a",
   "metadata": {},
   "source": [
    "## Download Player Season Stats Between Seasons 2011-2022"
   ]
  },
  {
   "cell_type": "code",
   "execution_count": null,
   "id": "4a7e587b",
   "metadata": {},
   "outputs": [],
   "source": [
    "league_seasons = ['11-12','12-13','13-14','14-15','15-16','16-17','17-18','18-19','19-20','20-21','21-22']\n",
    "\n",
    "player_stat_types = ['standard','shooting','passing','passing_types','goal_shot_creation',\n",
    "                     'defense','possession','playing_time','misc','keeper','keeper_adv']\n",
    "\n",
    "for season in league_seasons:\n",
    "    \n",
    "    fbref = sd.FBref(no_cache=False, no_store=False, leagues=\"ENG-Premier League\", seasons=season)\n",
    "\n",
    "    for stat in player_stat_types:\n",
    "        try:\n",
    "            pl_player_season_stats = fbref.read_player_season_stats(stat_type=stat)\n",
    "            pl_player_season_stats.to_csv(season + '_pl_player_season_stats_' + stat + '.csv')\n",
    "        except:\n",
    "            pass"
   ]
  },
  {
   "cell_type": "markdown",
   "id": "57a43c7c",
   "metadata": {},
   "source": [
    "## Download Individual Match Stats Between Seasons 2011-2022"
   ]
  },
  {
   "cell_type": "code",
   "execution_count": null,
   "id": "15da04e8",
   "metadata": {},
   "outputs": [],
   "source": [
    "league_seasons = ['11-12','12-13','13-14','14-15','15-16','16-17','17-18','18-19','19-20','20-21','21-22']\n",
    "\n",
    "\n",
    "for season in league_seasons:\n",
    "    \n",
    "    fbref = sd.FBref(no_cache=False, no_store=False, leagues=\"ENG-Premier League\", seasons=season)\n",
    "\n",
    "    epl_schedule = fbref.read_schedule()\n",
    "    epl_schedule.to_csv(season + '_pl_match_stats.csv')"
   ]
  }
 ],
 "metadata": {
  "kernelspec": {
   "display_name": "Python 3 (ipykernel)",
   "language": "python",
   "name": "python3"
  },
  "language_info": {
   "codemirror_mode": {
    "name": "ipython",
    "version": 3
   },
   "file_extension": ".py",
   "mimetype": "text/x-python",
   "name": "python",
   "nbconvert_exporter": "python",
   "pygments_lexer": "ipython3",
   "version": "3.9.7"
  }
 },
 "nbformat": 4,
 "nbformat_minor": 5
}
